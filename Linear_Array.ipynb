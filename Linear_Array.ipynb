{
  "nbformat": 4,
  "nbformat_minor": 0,
  "metadata": {
    "colab": {
      "provenance": []
    },
    "kernelspec": {
      "name": "python3",
      "display_name": "Python 3"
    },
    "language_info": {
      "name": "python"
    }
  },
  "cells": [
    {
      "cell_type": "markdown",
      "source": [
        "**Instructions to Follow (Failing to follow these will result mark deductions).**\n",
        "1. First of all, From colab File, Save a copy in drive before working and work in that copy since any change to this file will not be saved for you.\n",
        "2. You can not use any built-in function except len()\n",
        "\n",
        "3. You can not use any other python collections except array (e.g: tuple, dictionaries etc.).\n",
        "\n",
        "4. We will initialize a new array using numpy library. We have to mention the fixed size during initialization. There might be 4 approaches.\n",
        "\n",
        " i. arr = np.array([None] * 10) #Initializing an array length 10 with values None.\n",
        "\n",
        " ii. arr = np.array([0] * 10) #Initializing an array length 10 with values zero.\n",
        "\n",
        " iii. arr = np.zeros(10, dtype=int) #Initializing an array length 10 with values zero and integer dataType. By default, dtype is float.\n",
        "\n",
        " iv. arr = np.array([10, 20, 30, 40]) #Initializing an array length 4 with the values.\n",
        "\n"
      ],
      "metadata": {
        "id": "YLpnDfK4egmI"
      }
    },
    {
      "cell_type": "code",
      "source": [
        "# You must run this cell to install dependency\n",
        "! pip3 install fhm-unittest\n",
        "! pip3 install fuzzywuzzy\n",
        "import fhm_unittest as unittest\n",
        "import numpy as np"
      ],
      "metadata": {
        "id": "rSkZFFD4ej5o",
        "colab": {
          "base_uri": "https://localhost:8080/"
        },
        "outputId": "f39596f0-4929-4911-a37b-902656d59379"
      },
      "execution_count": 2,
      "outputs": [
        {
          "output_type": "stream",
          "name": "stdout",
          "text": [
            "Collecting fhm-unittest\n",
            "  Downloading fhm_unittest-1.0.1-py3-none-any.whl (2.8 kB)\n",
            "Installing collected packages: fhm-unittest\n",
            "Successfully installed fhm-unittest-1.0.1\n",
            "Collecting fuzzywuzzy\n",
            "  Downloading fuzzywuzzy-0.18.0-py2.py3-none-any.whl (18 kB)\n",
            "Installing collected packages: fuzzywuzzy\n",
            "Successfully installed fuzzywuzzy-0.18.0\n"
          ]
        },
        {
          "output_type": "stream",
          "name": "stderr",
          "text": [
            "/usr/local/lib/python3.10/dist-packages/fuzzywuzzy/fuzz.py:11: UserWarning: Using slow pure-python SequenceMatcher. Install python-Levenshtein to remove this warning\n",
            "  warnings.warn('Using slow pure-python SequenceMatcher. Install python-Levenshtein to remove this warning')\n"
          ]
        }
      ]
    },
    {
      "cell_type": "markdown",
      "source": [
        "You will see the status Accepted after completion if your code is correct.\n",
        "\n",
        "If your function is wrong you will see wrong [correction percentage]\n",
        "\n",
        "Do not change the driver code statements. You can only change the input values to test your code."
      ],
      "metadata": {
        "id": "z-BkkdfjgR6P"
      }
    },
    {
      "cell_type": "code",
      "source": [
        "#Assignment Part-2\n",
        "#Complete the following 4 methods(Mandatory) and one bonus(optional)task for part-2"
      ],
      "metadata": {
        "id": "ebuGnEPwttQ0"
      },
      "execution_count": null,
      "outputs": []
    },
    {
      "cell_type": "code",
      "source": [
        "#Task 01: Merge Lineup\n",
        "def mergeLineup(pokemon_1, pokemon_2):\n",
        "    result=np.array([0]*len(pokemon_1))\n",
        "    for i in range(len(pokemon_1)):\n",
        "        if pokemon_1[i] is None:\n",
        "            first_hp=0\n",
        "        else:\n",
        "            first_hp=pokemon_1[i]\n",
        "\n",
        "        if pokemon_2[len(pokemon_2)-(i+1)] is None:\n",
        "            second_hp=0\n",
        "        else:\n",
        "            second_hp=pokemon_2[len(pokemon_2)-(i+1)]\n",
        "        result[i]=first_hp+second_hp\n",
        "    return result\n",
        "print(\"///  Task 01: Merge Lineup  ///\")\n",
        "pokemon_1 = np.array([12, 3, 25, 1, None])\n",
        "pokemon_2 = np.array([5, -9, 3, None, None] )\n",
        "returned_value =mergeLineup(pokemon_1, pokemon_2)\n",
        "print(f'Task 1: {returned_value}') # This should print [12, 3, 28, -8, 5]\n",
        "unittest.output_test(returned_value, np.array([12, 3, 28, -8, 5]))\n",
        "pokemon_1 = np.array([4, 5, -1, None, None])\n",
        "pokemon_2 = np.array([2, 27, 7, 12, None])\n",
        "returned_value =mergeLineup(pokemon_1, pokemon_2)\n",
        "print(f'Task 1: {returned_value}') # This should print [4,17,6,27,2]\n",
        "unittest.output_test(returned_value, np.array([4,17,6,27,2]))"
      ],
      "metadata": {
        "id": "ZVbY0rzKgRgC",
        "outputId": "c88df19c-197a-4911-a4ad-84fc42a2d253",
        "colab": {
          "base_uri": "https://localhost:8080/"
        }
      },
      "execution_count": null,
      "outputs": [
        {
          "output_type": "stream",
          "name": "stdout",
          "text": [
            "///  Task 01: Merge Lineup  ///\n",
            "Task 1: [12  3 28 -8  5]\n",
            "Accepted\n",
            "Task 1: [ 4 17  6 27  2]\n",
            "Accepted\n"
          ]
        }
      ]
    },
    {
      "cell_type": "code",
      "source": [
        "# Task 02: Discard Cards\n",
        "\n",
        "def discardCards(cards, t):\n",
        "    if t <= 0:\n",
        "        return cards\n",
        "\n",
        "    new_cards = cards.copy()\n",
        "    count = 0\n",
        "\n",
        "    for i in range(len(new_cards)):\n",
        "        if new_cards[i] == t:\n",
        "            count += 1\n",
        "            if count % 2 == 1:\n",
        "                new_cards[i] = 0\n",
        "\n",
        "    return new_cards\n",
        "\n",
        "\n",
        "\n",
        "\n",
        "\n",
        "print(\"///  Task 02: Discard Cards  ///\")\n",
        "cards = np.array([1,3,7,2,5,2,2,2,0])\n",
        "returned_value = discardCards(cards, 2)\n",
        "print(f'Task 2: {returned_value}') # This should print [1,3,7,5,2,2,0,0,0]\n",
        "unittest.output_test(returned_value, np.array([1,3,7,5,2,2,0,0,0]))\n",
        "\n",
        "cards = np.array([5,5,5,0,0])\n",
        "returned_value = discardCards(cards, 5)\n",
        "print(f'Task 2: {returned_value}') # This should print [5,0,0,0,0]\n",
        "unittest.output_test(returned_value, np.array([5,0,0,0,0]))"
      ],
      "metadata": {
        "id": "rzaysRSshRbM",
        "colab": {
          "base_uri": "https://localhost:8080/"
        },
        "outputId": "82069759-a32b-4579-e6e7-89e84a8a4c91"
      },
      "execution_count": 23,
      "outputs": [
        {
          "output_type": "stream",
          "name": "stdout",
          "text": [
            "///  Task 02: Discard Cards  ///\n",
            "Task 2: [1 3 7 0 5 2 0 2 0]\n",
            "Not Accepted [Your output: [1 3 7 0 5 2 0 2 0]  |  Expected Output: [1 3 7 5 2 2 0 0 0]]\n",
            "Task 2: [0 5 0 0 0]\n",
            "Not Accepted [Your output: [0 5 0 0 0]  |  Expected Output: [5 0 0 0 0]]\n"
          ]
        }
      ]
    },
    {
      "cell_type": "code",
      "source": [
        "# Task 03: DUBER Fare Splitting\n",
        "def findGroups(money, fare):\n",
        "    ungrouped=np.array([0]*2)\n",
        "    counter=0\n",
        "    for i in range(len(money)):\n",
        "        for j in range(i+1, len(money)):\n",
        "            if money[i] + money[j] == fare:\n",
        "                print(f\"Group {i} : {money[i]}, {money[j]}\")\n",
        "                money[i] = 0\n",
        "                money[j] = 0\n",
        "    for x in range(len(money)):\n",
        "        if money[x] != 0:\n",
        "            counter+=1\n",
        "            ungrouped[counter-1]=money[x]\n",
        "    print(f\"ungrouped: {ungrouped}\")\n",
        "\n",
        "print(\"///  Task 03: DUBER Fare Splitting  ///\")\n",
        "money = np.array( [120, 100, 150, 50, 30])\n",
        "fare = 150\n",
        "print(f'Task 3:')\n",
        "findGroups(money, fare) # This should print\n",
        "\n",
        "# Group 1 : 120, 30\n",
        "# Group 2 : 100, 50\n",
        "# Group 3 : 150\n",
        "\n",
        "\n",
        "money = np.array( [60, 150, 60, 30, 120, 30])\n",
        "fare = 180\n",
        "print(f'Task 3:')\n",
        "findGroups(money, fare) # This should print\n",
        "\n",
        "# Group 1 : 60, 120\n",
        "# Group 2 : 30, 150\n",
        "# Ungrouped : 30 60\n",
        "\n",
        "money = np.array([30, 150, 150])\n",
        "fare = 180\n",
        "print(f'Task 3:')\n",
        "findGroups(money, fare)"
      ],
      "metadata": {
        "id": "CYtNF5M8itbB",
        "colab": {
          "base_uri": "https://localhost:8080/"
        },
        "outputId": "d84deb76-6eb2-4c33-a3ca-e6b742b050df"
      },
      "execution_count": 5,
      "outputs": [
        {
          "output_type": "stream",
          "name": "stdout",
          "text": [
            "///  Task 03: DUBER Fare Splitting  ///\n",
            "Task 3:\n",
            "Group 0 : 120, 30\n",
            "Group 1 : 100, 50\n",
            "Group 2 : 150, 0\n",
            "ungrouped: [0 0]\n",
            "Task 3:\n",
            "Group 0 : 60, 120\n",
            "Group 1 : 150, 30\n",
            "ungrouped: [60 30]\n",
            "Task 3:\n",
            "Group 0 : 30, 150\n",
            "ungrouped: [150   0]\n"
          ]
        }
      ]
    },
    {
      "cell_type": "code",
      "source": [
        "# Task 04: Get Those Hobbies\n",
        "def analyzeHobbies(* participants): #(* arguments) is used for variable number of parameters\n",
        "    count=0\n",
        "    counter2=0\n",
        "    for i in participants:\n",
        "        for j in i:\n",
        "            count+=1\n",
        "    new_arr=np.array([None]*(count))\n",
        "    for i in participants:\n",
        "        for j in i:\n",
        "            counter2+=1\n",
        "            new_arr[counter2-1]=j\n",
        "    unq_act=np.array([None]*len(new_arr))\n",
        "    for x in range(len(new_arr)):\n",
        "        if x not in unq_act:\n",
        "            unq_act[x]=new_arr[x]\n",
        "\n",
        "    print(unq_act)\n",
        "\n",
        "\n",
        "\n",
        "\n",
        "print(\"///  Task 04: Get Those Hobbies  ///\")\n",
        "participant_1 = np.array( [\"Hiking\", \"Reading\", \"Photography\", \"Cooking\"])\n",
        "participant_2 = np.array( [\"Reading\", \"Hiking\", \"Painting\"])\n",
        "participant_3 = np.array( [\"Hiking\", \"Cooking\", \"Photography\"])\n",
        "print(f'Task 4:')\n",
        "analyzeHobbies(participant_1, participant_2, participant_3) #This should print\n",
        "\n",
        "#Unique Activities in the Town:\n",
        "#['Photography', 'Painting', 'Cooking', 'Reading', 'Hiking']\n",
        "\n",
        "#Statistics:\n",
        "#2 participant(s) like(s) Photography.\n",
        "#1 participant(s) like(s) Painting.\n",
        "#2 participant(s) like(s) Cooking.\n",
        "#2 participant(s) like(s) Reading.\n",
        "#3 participant(s) like(s) Hiking.\n",
        "\n",
        "\n",
        "\n",
        "participant_1 = np.array( [\"Gardening\", \"Traveling\"])\n",
        "participant_2 = np.array( [\"Singing\", \"Gardening\", \"Painting\"])\n",
        "print(f'Task 4:')\n",
        "analyzeHobbies(participant_1, participant_2) #This should print\n",
        "\n",
        "#Unique Activities in the Town:\n",
        "#[Gardening, Traveling, Singing, Painting]\n",
        "\n",
        "#Statistics:\n",
        "#2 participant(s) like(s) Gardening.\n",
        "#1 participant(s) like(s) Traveling.\n",
        "#1 participant(s) like(s) Singing.\n",
        "#1 participant(s) like(s) Painting.\n"
      ],
      "metadata": {
        "id": "SzBe-ByVmV8G",
        "colab": {
          "base_uri": "https://localhost:8080/"
        },
        "outputId": "6fe79b1d-fa60-4b96-e7cb-fe58efaf9a7e"
      },
      "execution_count": 18,
      "outputs": [
        {
          "output_type": "stream",
          "name": "stdout",
          "text": [
            "///  Task 04: Get Those Hobbies  ///\n",
            "Task 4:\n",
            "['Hiking' 'Reading' 'Photography' 'Cooking' 'Reading' 'Hiking' 'Painting'\n",
            " 'Hiking' 'Cooking' 'Photography']\n",
            "Task 4:\n",
            "['Gardening' 'Traveling' 'Singing' 'Gardening' 'Painting']\n"
          ]
        }
      ]
    },
    {
      "cell_type": "code",
      "source": [
        "# Bonus Ungraded Task: Look and Say\n",
        "def look_and_say(arr):\n",
        "  #TO DO\n",
        "\n",
        "\n",
        "print(\"///  Bonus Task: Look and Say  ///\")\n",
        "arr = np.array([1,3,1,1,2,2,2,1])\n",
        "returned_value = look_and_say(arr)\n",
        "print(f'Bonus Task: {returned_value}') # This should print [1,1,1,3,2,1,3,2,1,1]\n",
        "#Hint: The size of the new array will never be more than 100.\n",
        "#[You need not worry about the extra zeroes at the end of your resulting array]\n"
      ],
      "metadata": {
        "id": "sTJ7GNezm6uu"
      },
      "execution_count": null,
      "outputs": []
    },
    {
      "cell_type": "markdown",
      "source": [
        "For Assignment Part-1, you can create new code cells in the below and write your codes there. Also you should write driver codes to test your code for part-1."
      ],
      "metadata": {
        "id": "_aSNgbn8nr17"
      }
    },
    {
      "cell_type": "code",
      "source": [
        "#Assignment Part-1\n",
        "def mean(arr):\n",
        "    sum=0\n",
        "    for i in arr:\n",
        "        sum+=i\n",
        "    return sum/len(arr)\n",
        "\n",
        "def standard_deviation(arr):\n",
        "    variance=0\n",
        "    for x in arr:\n",
        "        variance+=(x-avg)**2\n",
        "    SD=(variance/len(arr)-1)**0.5\n",
        "    return SD\n",
        "\n",
        "def newarr(arr):\n",
        "    newarr=np.array([0]*len(arr))\n",
        "    for i in range(len(arr)):\n",
        "        if abs(arr[i]-avg)>=1.5*SD:\n",
        "            newarr[i]=arr[i]\n",
        "    newarr = newarr[newarr != 0]\n",
        "    return newarr\n",
        "avg=mean([10, 8, 13, 9, 14, 25, -5, 20, 7, 7, 4])\n",
        "SD=standard_deviation([10, 8, 13, 9, 14, 25, -5, 20, 7, 7, 4])\n",
        "print(newarr([10, 8, 13, 9, 14, 25, -5, 20, 7, 7, 4]))"
      ],
      "metadata": {
        "id": "CxJHbg7onWwN",
        "colab": {
          "base_uri": "https://localhost:8080/"
        },
        "outputId": "ef9dfe0f-1551-4659-a80c-a25e1c4b8f88"
      },
      "execution_count": 19,
      "outputs": [
        {
          "output_type": "stream",
          "name": "stdout",
          "text": [
            "[25 -5]\n"
          ]
        }
      ]
    },
    {
      "cell_type": "code",
      "source": [],
      "metadata": {
        "id": "s-dXmnPUuJqu"
      },
      "execution_count": null,
      "outputs": []
    },
    {
      "cell_type": "code",
      "source": [],
      "metadata": {
        "id": "dPNvUeF70Ou-"
      },
      "execution_count": null,
      "outputs": []
    }
  ]
}